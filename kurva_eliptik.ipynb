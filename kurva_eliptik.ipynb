{
  "cells": [
    {
      "cell_type": "markdown",
      "metadata": {
        "id": "mTJTyugVJnsP"
      },
      "source": [
        "# gawe njajal"
      ]
    },
    {
      "cell_type": "code",
      "execution_count": null,
      "metadata": {
        "colab": {
          "base_uri": "https://localhost:8080/"
        },
        "id": "RigNcMtrJmzJ",
        "outputId": "77406b6c-adda-4643-9310-813c1bd6e41a"
      },
      "outputs": [
        {
          "name": "stdout",
          "output_type": "stream",
          "text": [
            "[1, 5, 2, 8]\n"
          ]
        },
        {
          "name": "stdout",
          "output_type": "stream",
          "text": [
            "[1, 5, 2, 8]\n"
          ]
        }
      ],
      "source": [
        "daftar=[[1,2],[3,5],[5,2],[4,5],[2,2],[8,2]]\n",
        "daftar_kosong=[]\n",
        "nomor_acak=2\n",
        "for i in daftar:\n",
        "  if nomor_acak ==i[1]:\n",
        "    daftar_kosong.append(i[0])\n",
        "print(daftar_kosong)"
      ]
    },
    {
      "cell_type": "code",
      "execution_count": null,
      "metadata": {
        "colab": {
          "base_uri": "https://localhost:8080/"
        },
        "id": "kq1NzIzCLGci",
        "outputId": "51a3f826-89ba-4dbf-a3cf-ccecd510b659"
      },
      "outputs": [
        {
          "data": {
            "text/plain": [
              "[[1, 'b'], [2, 'b']]"
            ]
          },
          "execution_count": 2,
          "metadata": {},
          "output_type": "execute_result"
        }
      ],
      "source": [
        "list_1=[[1,4],[2,6],[2,4]]\n",
        "list_2=[['a',2],['b',4],['c',7]]\n",
        "kotong=[]\n",
        "for aa in list_1:\n",
        "  for bb in list_2:\n",
        "    if bb[1]==aa[1]:\n",
        "      kotong.append([aa[0],bb[0]])\n",
        "kotong"
      ]
    },
    {
      "cell_type": "code",
      "execution_count": null,
      "metadata": {
        "colab": {
          "base_uri": "https://localhost:8080/"
        },
        "id": "BzAdRDKm73-A",
        "outputId": "1c760d6d-7854-4582-8bee-347876003c04"
      },
      "outputs": [
        {
          "name": "stdout",
          "output_type": "stream",
          "text": [
            "3\n",
            "2\n",
            "1\n",
            "0\n"
          ]
        }
      ],
      "source": [
        "#rekrusif\n",
        "def countdown(n):\n",
        "  print(n)\n",
        "  if n>0:\n",
        "    countdown(n-1)\n",
        "\n",
        "countdown(3)"
      ]
    },
    {
      "cell_type": "code",
      "execution_count": null,
      "metadata": {
        "colab": {
          "base_uri": "https://localhost:8080/"
        },
        "id": "xoMwLOAb9WyY",
        "outputId": "5525e95d-e7d5-45d9-c949-7906b90058e9"
      },
      "outputs": [
        {
          "name": "stdout",
          "output_type": "stream",
          "text": [
            "-0.14285714285714285\n"
          ]
        }
      ],
      "source": [
        "aa=3\n",
        "bb=4\n",
        "s=(aa-bb)/(bb+aa)\n",
        "print(s)\n",
        "del aa, bb\n"
      ]
    },
    {
      "cell_type": "markdown",
      "metadata": {
        "id": "xGkS6sODlvcR"
      },
      "source": [
        "# Cek Prim"
      ]
    },
    {
      "cell_type": "code",
      "execution_count": 15,
      "metadata": {
        "id": "nLcvCQfSliz1"
      },
      "outputs": [],
      "source": [
        "def CekPrim(n):\n",
        "  for i in range(2,n):\n",
        "    if n%i==0:\n",
        "      return False\n",
        "      break\n",
        "  return True"
      ]
    },
    {
      "cell_type": "code",
      "execution_count": 16,
      "metadata": {
        "colab": {
          "base_uri": "https://localhost:8080/"
        },
        "id": "ImD3V-OPmPsN",
        "outputId": "1a1330e5-41e3-4f89-e47c-a41ea6732301"
      },
      "outputs": [
        {
          "data": {
            "text/plain": [
              "True"
            ]
          },
          "execution_count": 16,
          "metadata": {},
          "output_type": "execute_result"
        }
      ],
      "source": [
        "CekPrim(41)"
      ]
    },
    {
      "cell_type": "markdown",
      "metadata": {
        "id": "VURwhOAImbyG"
      },
      "source": [
        "# Kurva Eliptik"
      ]
    },
    {
      "cell_type": "code",
      "execution_count": 17,
      "metadata": {
        "colab": {
          "base_uri": "https://localhost:8080/"
        },
        "id": "65-fWSDWmXto",
        "outputId": "bcd38076-095b-4b77-9af9-d71bc0c6eff2"
      },
      "outputs": [
        {
          "name": "stdout",
          "output_type": "stream",
          "text": [
            "4a^3+27b^2 mod 37\n",
            "4(8)^3+27(25)^2 mod 37 hasilnya 16, karena tidak 0 maka dapat digunakan\n"
          ]
        }
      ],
      "source": [
        "#4a^3+27b^2 mod 37\n",
        "#kurva eliptik\n",
        "#y^2=x^3+8x+25\n",
        "\n",
        "# a=8\n",
        "# b=25\n",
        "import sys\n",
        "nilai_A= int(input('masukkan nilai a= '))\n",
        "nilai_B= int(input('masukkan nilai b= '))\n",
        "if nilai_A>36 or nilai_B >36:\n",
        "   print('tidak bisa memilih nilai lebih dari sama Bilangan prima')\n",
        "   sys.exit(1)  # Exit with code 1 indicating an error\n",
        "bilangan_prima= int(input ('masukkan nilai prim= '))\n",
        "BilPrim = CekPrim(bilangan_prima)\n",
        "if  BilPrim==False:\n",
        "    print(\"Invalid, Bukan bilangan Prima\")\n",
        "    sys.exit(1)  # Exit with code 1 indicating an error\n",
        "def cek_kurva(a,b):\n",
        "  hasil =(4*(a**3)+27*(b**2))%bilangan_prima\n",
        "  #return print('hasilnya ',hasil,'dapat digunakan') if hasil!=0 else print('hasilnya ',hasil,'tidak dapat digunakan')\n",
        "  return print(f\"4a^3+27b^2 mod {bilangan_prima}\\n4({a})^3+27({b})^2 mod {bilangan_prima} hasilnya {hasil}, karena tidak 0 maka dapat digunakan\") if hasil!=0 else print('hasilnya ',hasil,'tidak dapat digunakan')\n",
        "cek_kurva(nilai_A,nilai_B)"
      ]
    },
    {
      "cell_type": "code",
      "execution_count": 18,
      "metadata": {
        "colab": {
          "base_uri": "https://localhost:8080/"
        },
        "id": "qqX7lSBWtaUx",
        "outputId": "f3fbd4b4-96cc-4470-e29e-3f68ed8e028d"
      },
      "outputs": [
        {
          "data": {
            "text/plain": [
              "[[0, 0],\n",
              " [1, 1],\n",
              " [2, 4],\n",
              " [3, 9],\n",
              " [4, 16],\n",
              " [5, 25],\n",
              " [6, 36],\n",
              " [7, 12],\n",
              " [8, 27],\n",
              " [9, 7],\n",
              " [10, 26],\n",
              " [11, 10],\n",
              " [12, 33],\n",
              " [13, 21],\n",
              " [14, 11],\n",
              " [15, 3],\n",
              " [16, 34],\n",
              " [17, 30],\n",
              " [18, 28],\n",
              " [19, 28],\n",
              " [20, 30],\n",
              " [21, 34],\n",
              " [22, 3],\n",
              " [23, 11],\n",
              " [24, 21],\n",
              " [25, 33],\n",
              " [26, 10],\n",
              " [27, 26],\n",
              " [28, 7],\n",
              " [29, 27],\n",
              " [30, 12],\n",
              " [31, 36],\n",
              " [32, 25],\n",
              " [33, 16],\n",
              " [34, 9],\n",
              " [35, 4],\n",
              " [36, 1]]"
            ]
          },
          "execution_count": 18,
          "metadata": {},
          "output_type": "execute_result"
        }
      ],
      "source": [
        "#hipunan y^2\n",
        "\n",
        "list_himpunan_y=[]\n",
        "def himpunan_y(bilangan_prima):\n",
        "  for y in range(0,bilangan_prima):\n",
        "    inner_list=[y,(y**2)%37]\n",
        "    list_himpunan_y.append(inner_list)\n",
        "  return list_himpunan_y\n",
        "\n",
        "y_kuadrat=himpunan_y(bilangan_prima)\n",
        "y_kuadrat"
      ]
    },
    {
      "cell_type": "code",
      "execution_count": 19,
      "metadata": {
        "colab": {
          "base_uri": "https://localhost:8080/"
        },
        "collapsed": true,
        "id": "VBK8dlXAuwul",
        "outputId": "ebcdeefa-fba9-4d20-84fc-d7076cefcb85"
      },
      "outputs": [
        {
          "data": {
            "text/plain": [
              "[[0, 25],\n",
              " [1, 34],\n",
              " [2, 12],\n",
              " [3, 2],\n",
              " [4, 10],\n",
              " [5, 5],\n",
              " [6, 30],\n",
              " [7, 17],\n",
              " [8, 9],\n",
              " [9, 12],\n",
              " [10, 32],\n",
              " [11, 1],\n",
              " [12, 36],\n",
              " [13, 32],\n",
              " [14, 32],\n",
              " [15, 5],\n",
              " [16, 31],\n",
              " [17, 5],\n",
              " [18, 7],\n",
              " [19, 6],\n",
              " [20, 8],\n",
              " [21, 19],\n",
              " [22, 8],\n",
              " [23, 18],\n",
              " [24, 18],\n",
              " [25, 14],\n",
              " [26, 12],\n",
              " [27, 18],\n",
              " [28, 1],\n",
              " [29, 4],\n",
              " [30, 33],\n",
              " [31, 20],\n",
              " [32, 8],\n",
              " [33, 3],\n",
              " [34, 11],\n",
              " [35, 1],\n",
              " [36, 16]]"
            ]
          },
          "execution_count": 19,
          "metadata": {},
          "output_type": "execute_result"
        }
      ],
      "source": [
        "#x^3+8x+25\n",
        "\n",
        "def himpunan_x(bilangan_prima):\n",
        "  list_himpunan_x=[]\n",
        "  for x in range(0, bilangan_prima):\n",
        "    list_himpunan_x.append([x,(x**3+nilai_A*x+nilai_B)%bilangan_prima])\n",
        "  return list_himpunan_x\n",
        "\n",
        "himpunan_bil_x=himpunan_x(bilangan_prima)\n",
        "himpunan_bil_x"
      ]
    },
    {
      "cell_type": "code",
      "execution_count": 20,
      "metadata": {
        "colab": {
          "base_uri": "https://localhost:8080/"
        },
        "id": "UwR-T6pTRGf3",
        "outputId": "db0a39ce-eda0-4ee2-f369-bcc7d91bc1fa"
      },
      "outputs": [
        {
          "data": {
            "text/plain": [
              "[[0, 5],\n",
              " [0, 32],\n",
              " [1, 16],\n",
              " [1, 21],\n",
              " [2, 7],\n",
              " [2, 30],\n",
              " [4, 11],\n",
              " [4, 26],\n",
              " [6, 17],\n",
              " [6, 20],\n",
              " [8, 3],\n",
              " [8, 34],\n",
              " [9, 7],\n",
              " [9, 30],\n",
              " [11, 1],\n",
              " [11, 36],\n",
              " [12, 6],\n",
              " [12, 31],\n",
              " [18, 9],\n",
              " [18, 28],\n",
              " [26, 7],\n",
              " [26, 30],\n",
              " [28, 1],\n",
              " [28, 36],\n",
              " [29, 2],\n",
              " [29, 35],\n",
              " [30, 12],\n",
              " [30, 25],\n",
              " [33, 15],\n",
              " [33, 22],\n",
              " [34, 14],\n",
              " [34, 23],\n",
              " [35, 1],\n",
              " [35, 36],\n",
              " [36, 4],\n",
              " [36, 33]]"
            ]
          },
          "execution_count": 20,
          "metadata": {},
          "output_type": "execute_result"
        }
      ],
      "source": [
        "list_gabungan=[]\n",
        "for i in y_kuadrat:\n",
        "  for j in himpunan_bil_x:\n",
        "    if i[1] ==j[1]:\n",
        "      list_gabungan.append([j[0],i[0]])\n",
        "list_gabungan.sort(key=lambda row: row[0], reverse=False)\n",
        "list_gabungan\n"
      ]
    },
    {
      "cell_type": "code",
      "execution_count": 21,
      "metadata": {
        "colab": {
          "base_uri": "https://localhost:8080/"
        },
        "id": "6uY65dbu8mZL",
        "outputId": "6ab805a6-8016-49e4-a6a2-1846975bc31c"
      },
      "outputs": [
        {
          "name": "stdout",
          "output_type": "stream",
          "text": [
            "[0, 32]\n"
          ]
        }
      ],
      "source": [
        "titik_satu=list_gabungan[1]\n",
        "print(titik_satu)"
      ]
    },
    {
      "cell_type": "markdown",
      "metadata": {
        "id": "KdjExI1e4Oss"
      },
      "source": [
        "# OPERASI PADA KURVA ELIPTIK\n",
        "\n",
        "## Poin Addition\n",
        "P1 != P1\n",
        "dimana P1=(x1,y1) DAN  P2=(x2,y2)\n",
        "\n",
        "R=P1+P2=(X3,Y3)\n"
      ]
    },
    {
      "cell_type": "code",
      "execution_count": 29,
      "metadata": {
        "id": "4pq2qMQYTuXr"
      },
      "outputs": [
        {
          "name": "stdout",
          "output_type": "stream",
          "text": [
            "19 ,  0\n"
          ]
        }
      ],
      "source": [
        "P_SATU=[28,36]\n",
        "P_DUA=[29,2]\n",
        "\n",
        "x1=P_SATU[0]\n",
        "x2=P_SATU[1]\n",
        "y1=P_DUA[0]\n",
        "y2=P_DUA[1]\n",
        "\n",
        "\n",
        "\n",
        "s=int(((y2-y1)/(x2-x1)))\n",
        "x3=(s**2-x1-x2)%bilangan_prima\n",
        "y3=(s*x1-s*x3-y1)&bilangan_prima\n",
        "print(x3,\", \",y3)"
      ]
    },
    {
      "cell_type": "code",
      "execution_count": 30,
      "metadata": {},
      "outputs": [
        {
          "data": {
            "text/plain": [
              "14"
            ]
          },
          "execution_count": 30,
          "metadata": {},
          "output_type": "execute_result"
        }
      ],
      "source": [
        "4+2*5"
      ]
    }
  ],
  "metadata": {
    "colab": {
      "provenance": []
    },
    "kernelspec": {
      "display_name": "Python 3",
      "name": "python3"
    },
    "language_info": {
      "codemirror_mode": {
        "name": "ipython",
        "version": 3
      },
      "file_extension": ".py",
      "mimetype": "text/x-python",
      "name": "python",
      "nbconvert_exporter": "python",
      "pygments_lexer": "ipython3",
      "version": "3.10.12"
    }
  },
  "nbformat": 4,
  "nbformat_minor": 0
}
